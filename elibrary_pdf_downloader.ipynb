{
  "nbformat": 4,
  "nbformat_minor": 0,
  "metadata": {
    "colab": {
      "name": "Copy of Copy of Copy of Copy of Elibrary_pdf_downloader.ipynb",
      "provenance": [],
      "collapsed_sections": [],
      "include_colab_link": true
    },
    "kernelspec": {
      "name": "python3",
      "display_name": "Python 3"
    }
  },
  "cells": [
    {
      "cell_type": "markdown",
      "metadata": {
        "id": "view-in-github",
        "colab_type": "text"
      },
      "source": [
        "<a href=\"https://colab.research.google.com/github/ichekhovskikh/elibrary-pdf-downloader/blob/master/elibrary_pdf_downloader.ipynb\" target=\"_parent\"><img src=\"https://colab.research.google.com/assets/colab-badge.svg\" alt=\"Open In Colab\"/></a>"
      ]
    },
    {
      "cell_type": "code",
      "metadata": {
        "id": "jInlbJDWxIkS",
        "colab_type": "code",
        "outputId": "e3961335-743d-4e05-d27a-c041a7b7de68",
        "colab": {
          "base_uri": "https://localhost:8080/",
          "height": 225
        }
      },
      "source": [
        "!pip install requests\n",
        "!pip install tika\n",
        "\n",
        "import requests\n",
        "import re\n",
        "from io import BytesIO\n",
        "from tika import parser\n",
        "from google.colab import drive"
      ],
      "execution_count": 2,
      "outputs": [
        {
          "output_type": "stream",
          "text": [
            "Requirement already satisfied: requests in /usr/local/lib/python3.6/dist-packages (2.21.0)\n",
            "Requirement already satisfied: certifi>=2017.4.17 in /usr/local/lib/python3.6/dist-packages (from requests) (2019.9.11)\n",
            "Requirement already satisfied: chardet<3.1.0,>=3.0.2 in /usr/local/lib/python3.6/dist-packages (from requests) (3.0.4)\n",
            "Requirement already satisfied: urllib3<1.25,>=1.21.1 in /usr/local/lib/python3.6/dist-packages (from requests) (1.24.3)\n",
            "Requirement already satisfied: idna<2.9,>=2.5 in /usr/local/lib/python3.6/dist-packages (from requests) (2.8)\n",
            "Requirement already satisfied: tika in /usr/local/lib/python3.6/dist-packages (1.22)\n",
            "Requirement already satisfied: setuptools in /usr/local/lib/python3.6/dist-packages (from tika) (41.6.0)\n",
            "Requirement already satisfied: requests in /usr/local/lib/python3.6/dist-packages (from tika) (2.21.0)\n",
            "Requirement already satisfied: urllib3<1.25,>=1.21.1 in /usr/local/lib/python3.6/dist-packages (from requests->tika) (1.24.3)\n",
            "Requirement already satisfied: idna<2.9,>=2.5 in /usr/local/lib/python3.6/dist-packages (from requests->tika) (2.8)\n",
            "Requirement already satisfied: chardet<3.1.0,>=3.0.2 in /usr/local/lib/python3.6/dist-packages (from requests->tika) (3.0.4)\n",
            "Requirement already satisfied: certifi>=2017.4.17 in /usr/local/lib/python3.6/dist-packages (from requests->tika) (2019.9.11)\n"
          ],
          "name": "stdout"
        }
      ]
    },
    {
      "cell_type": "markdown",
      "metadata": {
        "id": "HfcBTjw-QwUf",
        "colab_type": "text"
      },
      "source": [
        "Указание логина и пароля для доступа к eLibrary. так же требуется указать строку поиска и количество страниц для просмотра"
      ]
    },
    {
      "cell_type": "code",
      "metadata": {
        "id": "ZIUq97aqLrCH",
        "colab_type": "code",
        "colab": {}
      },
      "source": [
        "login = 'ivanivanivan2'\n",
        "password = 'ivan1234'\n",
        "search_tags = ['агро производство', 'анализ изображений', 'космические снимки']\n",
        "page_count = 5"
      ],
      "execution_count": 0,
      "outputs": []
    },
    {
      "cell_type": "markdown",
      "metadata": {
        "id": "bp7i9zoVepp6",
        "colab_type": "text"
      },
      "source": [
        "Монтирование директории для работы с файлами"
      ]
    },
    {
      "cell_type": "code",
      "metadata": {
        "id": "IJpWdk-3e0Yr",
        "colab_type": "code",
        "colab": {}
      },
      "source": [
        "drive.mount('/content/drive')"
      ],
      "execution_count": 0,
      "outputs": []
    },
    {
      "cell_type": "markdown",
      "metadata": {
        "id": "9mDaDU0WQ2yN",
        "colab_type": "text"
      },
      "source": [
        "Инициализация сессии для работы с eLibrary"
      ]
    },
    {
      "cell_type": "code",
      "metadata": {
        "id": "-IO34obMDZwt",
        "colab_type": "code",
        "colab": {}
      },
      "source": [
        "save_path = 'data.json'\n",
        "\n",
        "headers = {\n",
        "    'content-type': 'application/x-www-form-urlencoded',\n",
        "    'user-agent': 'PostmanRuntime/7.19.0'\n",
        "}\n",
        "params = {'login': login, 'password': password}\n",
        "\n",
        "auth_url = 'https://elibrary.ru/start_session.asp'\n",
        "search_url = 'https://elibrary.ru/query_results.asp?where_abstract=on&type_article=on&queryboxid=&type_report=on&type_preprint=on&search_open=&rubrics_all=&changed=1&where_fulltext=on&where_keywords=on&type_patent=on&search_freetext=&search_fulltext=&where_name=on&where_references=on&itemboxid=&end_year=&titles_all=&where_affiliation=on&begin_year=&order=rev&type_conf=on&search_morph=on&authors_all=&type_disser=on&search_results=&type_book=on&ftext={}&issues=all&orderby=rank'\n",
        "search_page_url = 'https://elibrary.ru/query_results.asp?pagenum={}'\n",
        "download_pdf_url = 'https://elibrary.ru/full_text.asp?id={}'\n",
        "\n",
        "session = requests.Session()\n",
        "session.post(auth_url, data = params, headers = headers)"
      ],
      "execution_count": 0,
      "outputs": []
    },
    {
      "cell_type": "markdown",
      "metadata": {
        "id": "wtHH_-8hHnzU",
        "colab_type": "text"
      },
      "source": [
        "Получение идентификаторов статей"
      ]
    },
    {
      "cell_type": "code",
      "metadata": {
        "id": "krZZ6sSXTU21",
        "colab_type": "code",
        "colab": {}
      },
      "source": [
        "def get_all_article_ids(html_page):\n",
        "   matches = re.findall(r\"#pdf_\\d+\", html_page)\n",
        "   for match in matches:\n",
        "     yield match.replace(\"#pdf_\", \"\")"
      ],
      "execution_count": 0,
      "outputs": []
    },
    {
      "cell_type": "markdown",
      "metadata": {
        "id": "FYB35O5EH046",
        "colab_type": "text"
      },
      "source": [
        "Скачивание статьи"
      ]
    },
    {
      "cell_type": "code",
      "metadata": {
        "id": "3TJsNWMIHPRQ",
        "colab_type": "code",
        "colab": {}
      },
      "source": [
        "def download_pdf(pdf_id):\n",
        "  response = session.get(download_pdf_url.format(pdf_id), headers=headers, stream=True)\n",
        "  return BytesIO(response.content)"
      ],
      "execution_count": 0,
      "outputs": []
    },
    {
      "cell_type": "markdown",
      "metadata": {
        "id": "mbYk-3yyUZSC",
        "colab_type": "text"
      },
      "source": [
        "Конвертирование pdf в text"
      ]
    },
    {
      "cell_type": "code",
      "metadata": {
        "id": "hvttCYkVRqP3",
        "colab_type": "code",
        "colab": {}
      },
      "source": [
        "ignored_text_fragments = [\n",
        "  'eLIBRARY RU НАУЧНАЯ ЭЛЕКТРОННАЯ БИБЛИОТЕКА', \n",
        "  'Содержание корзины ПОИСК Найти Расширенный поиск НАВИГАТОР',\n",
        "  'Из за нарушения правил пользования сайтом eLIBRARY RU'\n",
        "] \n",
        "\n",
        "def pdf2text(pdf_file):\n",
        "  text = parser.from_buffer(pdf_file)['content']\n",
        "  only_words = re.sub(r'\\W+', r' ', text)\n",
        "  for ignored_fragment in ignored_text_fragments:\n",
        "    if (ignored_fragment in only_words):\n",
        "      return None\n",
        "  return only_words"
      ],
      "execution_count": 0,
      "outputs": []
    },
    {
      "cell_type": "markdown",
      "metadata": {
        "id": "hgcTz8w1rLCo",
        "colab_type": "text"
      },
      "source": [
        "Конвертирование text в json"
      ]
    },
    {
      "cell_type": "code",
      "metadata": {
        "id": "CJBXVZrkpcFv",
        "colab_type": "code",
        "colab": {}
      },
      "source": [
        "def get_acticle_as_json(pdf_id, text):\n",
        "  return '{\"id\":' + pdf_id + ',\"text\":\"' + text + '\",\"tags\":[\"' + pdf_id + '\"]}'"
      ],
      "execution_count": 0,
      "outputs": []
    },
    {
      "cell_type": "code",
      "metadata": {
        "id": "rR_SMUsxQtSM",
        "colab_type": "code",
        "colab": {}
      },
      "source": [
        "json_file = \"[\"\n",
        "\n",
        "for tag in search_tags:\n",
        "  session.get(search_url.format(tag), headers=headers)\n",
        "  for page_index in range(page_count):\n",
        "    print('search = {}, page = {}'.format(tag, page_index + 1))\n",
        "    response = session.get(search_page_url.format(page_index + 1), headers=headers)\n",
        "    pdf_ids = list(get_all_article_ids(response.text))\n",
        "    print('pdf_ids = {}'.format(pdf_ids))\n",
        "    if len(pdf_ids) < 1:\n",
        "      break\n",
        "\n",
        "    for pdf_id in pdf_ids:\n",
        "      try:\n",
        "        pdf_file = download_pdf(pdf_id)\n",
        "        text = pdf2text(pdf_file)\n",
        "        if (text is None):\n",
        "          continue\n",
        "        print('loaded {}'.format(pdf_id))\n",
        "        acticle_json = get_acticle_as_json(pdf_id, text)\n",
        "        json_file += acticle_json + \",\"\n",
        "      except:\n",
        "        continue\n",
        "\n",
        "if len(json_file) > 1:\n",
        "  json_file = json_file[:-1]\n",
        "json_file += \"]\"\n",
        "with open(save_path, 'w') as save_file:\n",
        "  save_file.write(json_file)"
      ],
      "execution_count": 0,
      "outputs": []
    }
  ]
}