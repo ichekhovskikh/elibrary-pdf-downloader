{
  "nbformat": 4,
  "nbformat_minor": 0,
  "metadata": {
    "colab": {
      "name": "Elibrary_pdf_downloader.ipynb",
      "provenance": [],
      "collapsed_sections": [],
      "include_colab_link": true
    },
    "kernelspec": {
      "name": "python3",
      "display_name": "Python 3"
    }
  },
  "cells": [
    {
      "cell_type": "markdown",
      "metadata": {
        "id": "view-in-github",
        "colab_type": "text"
      },
      "source": [
        "<a href=\"https://colab.research.google.com/github/ichekhovskikh/elibrary-pdf-downloader/blob/master/elibrary_pdf_downloader.ipynb\" target=\"_parent\"><img src=\"https://colab.research.google.com/assets/colab-badge.svg\" alt=\"Open In Colab\"/></a>"
      ]
    },
    {
      "cell_type": "code",
      "metadata": {
        "id": "jInlbJDWxIkS",
        "colab_type": "code",
        "colab": {}
      },
      "source": [
        "!pip install requests\n",
        "!pip install PyPDF2\n",
        "\n",
        "import requests\n",
        "import re\n",
        "from PyPDF2 import PdfFileReader\n",
        "from google.colab import drive"
      ],
      "execution_count": 0,
      "outputs": []
    },
    {
      "cell_type": "markdown",
      "metadata": {
        "id": "HfcBTjw-QwUf",
        "colab_type": "text"
      },
      "source": [
        "Указание логина и пароля для доступа к eLibrary. так же требуется указать строку поиска и количество страниц для просмотра"
      ]
    },
    {
      "cell_type": "code",
      "metadata": {
        "id": "ZIUq97aqLrCH",
        "colab_type": "code",
        "colab": {}
      },
      "source": [
        "login = 'your_login'\n",
        "password = 'your_password'\n",
        "search = 'космические снимки'\n",
        "page_count = 10"
      ],
      "execution_count": 0,
      "outputs": []
    },
    {
      "cell_type": "markdown",
      "metadata": {
        "id": "bp7i9zoVepp6",
        "colab_type": "text"
      },
      "source": [
        "Монтирование директории для работы с файлами"
      ]
    },
    {
      "cell_type": "code",
      "metadata": {
        "id": "IJpWdk-3e0Yr",
        "colab_type": "code",
        "colab": {}
      },
      "source": [
        "drive.mount('/content/drive')"
      ],
      "execution_count": 0,
      "outputs": []
    },
    {
      "cell_type": "markdown",
      "metadata": {
        "id": "9mDaDU0WQ2yN",
        "colab_type": "text"
      },
      "source": [
        "Инициализация сессии для работы с eLibrary"
      ]
    },
    {
      "cell_type": "code",
      "metadata": {
        "id": "-IO34obMDZwt",
        "colab_type": "code",
        "colab": {}
      },
      "source": [
        "save_path = '/content/drive/data/{}/{}.txt'\n",
        "\n",
        "headers = {'content-type': 'application/x-www-form-urlencoded','User-Agent': 'PostmanRuntime/7.19.0'}\n",
        "params = {'login': login,'password': password}\n",
        "\n",
        "auth_url = 'https://elibrary.ru/start_session.asp'\n",
        "search_url = 'https://elibrary.ru/query_results.asp?where_abstract=on&type_article=on&queryboxid=&type_report=on&type_preprint=on&search_open=&rubrics_all=&changed=1&where_fulltext=on&where_keywords=on&type_patent=on&search_freetext=&search_fulltext=&where_name=on&where_references=on&itemboxid=&end_year=&titles_all=&where_affiliation=on&begin_year=&order=rev&type_conf=on&search_morph=on&authors_all=&type_disser=on&search_results=&type_book=on&ftext={}&issues=all&orderby=rank&'.format(search)\n",
        "search_page_url = 'https://elibrary.ru/query_results.asp?pagenum={}'\n",
        "download_pdf_url = 'https://elibrary.ru/full_text.asp?id={}'\n",
        "\n",
        "session = requests.Session()\n",
        "session.post(auth_url, data=params, headers=headers)\n",
        "session.get(search_url, headers=headers)"
      ],
      "execution_count": 0,
      "outputs": []
    },
    {
      "cell_type": "markdown",
      "metadata": {
        "id": "wtHH_-8hHnzU",
        "colab_type": "text"
      },
      "source": [
        "Получение идентификаторов статей, доступных для скачивания в pdf"
      ]
    },
    {
      "cell_type": "code",
      "metadata": {
        "id": "krZZ6sSXTU21",
        "colab_type": "code",
        "colab": {}
      },
      "source": [
        "def available_pdf_ids(html_page):\n",
        "   matches = re.findall(r\"#pdf_\\d+\", html_page)\n",
        "   for match in matches:\n",
        "     yield match.replace(\"#pdf_\", \"\")"
      ],
      "execution_count": 0,
      "outputs": []
    },
    {
      "cell_type": "markdown",
      "metadata": {
        "id": "mbYk-3yyUZSC",
        "colab_type": "text"
      },
      "source": [
        "Ковертирование pdf в text"
      ]
    },
    {
      "cell_type": "code",
      "metadata": {
        "id": "hvttCYkVRqP3",
        "colab_type": "code",
        "colab": {}
      },
      "source": [
        "def pdf2text(pdf_file):\n",
        "    pdf = PyPDF2.PdfFileReader(pdf_file)\n",
        "    text = []\n",
        "    for page in pdf.pages:\n",
        "      text.append(page.extractText())\n",
        "    return text.replace(\"\\n\", ' ')"
      ],
      "execution_count": 0,
      "outputs": []
    },
    {
      "cell_type": "markdown",
      "metadata": {
        "id": "FYB35O5EH046",
        "colab_type": "text"
      },
      "source": [
        "Скачивание статьи"
      ]
    },
    {
      "cell_type": "code",
      "metadata": {
        "id": "3TJsNWMIHPRQ",
        "colab_type": "code",
        "colab": {}
      },
      "source": [
        "def download_pdf(path, pdf_id):\n",
        "  response = session.get(download_pdf_url.format(pdf_id), headers=headers)\n",
        "  pdf_buffer = StringIO.StringIO().write(response.content)\n",
        "  text = pdf2text(pdf_buffer)\n",
        "  with open(path, 'w') as text_file:\n",
        "    text_file.write(text)"
      ],
      "execution_count": 0,
      "outputs": []
    },
    {
      "cell_type": "code",
      "metadata": {
        "id": "rR_SMUsxQtSM",
        "colab_type": "code",
        "colab": {}
      },
      "source": [
        "for page_index in range(page_count):\n",
        "  response = session.get(search_page_url.format(page_index), headers=headers)\n",
        "  pdf_ids = available_pdf_ids(html_page)\n",
        "  if not pdf_ids:\n",
        "    break\n",
        "  for pdf_id in pdf_ids:\n",
        "    download_pdf(save_path.format(search, pdf_id), pdf_id)"
      ],
      "execution_count": 0,
      "outputs": []
    }
  ]
}